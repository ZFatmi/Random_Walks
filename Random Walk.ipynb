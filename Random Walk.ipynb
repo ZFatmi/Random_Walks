{
 "cells": [
  {
   "cell_type": "markdown",
   "id": "c057223b",
   "metadata": {},
   "source": [
    "We will create a function for returning the distance walked (distance x + distance y) with reference to the starting point. \n",
    "\n",
    "Each step is equal to 1 unit of distance. There are 4 directions permitted for each step, North, South, East or West. The direction of each step is selected randomly. "
   ]
  },
  {
   "cell_type": "code",
   "execution_count": 1,
   "id": "a102415e",
   "metadata": {},
   "outputs": [],
   "source": [
    "import random\n",
    "import math"
   ]
  },
  {
   "cell_type": "code",
   "execution_count": 2,
   "id": "cce17169",
   "metadata": {},
   "outputs": [
    {
     "name": "stdout",
     "output_type": "stream",
     "text": [
      "(2, 0) Distance from start = 2\n",
      "(-1, 1) Distance from start = 2\n",
      "(-2, 0) Distance from start = 2\n",
      "(4, -4) Distance from start = 8\n",
      "(3, -1) Distance from start = 4\n",
      "(2, -4) Distance from start = 6\n",
      "(-1, -1) Distance from start = 2\n",
      "(-4, -2) Distance from start = 6\n",
      "(0, -2) Distance from start = 2\n",
      "(-1, 7) Distance from start = 8\n",
      "(2, -2) Distance from start = 4\n",
      "(1, -1) Distance from start = 2\n",
      "(0, -2) Distance from start = 2\n",
      "(-3, -3) Distance from start = 6\n",
      "(3, 1) Distance from start = 4\n",
      "(-1, -1) Distance from start = 2\n",
      "(2, -2) Distance from start = 4\n",
      "(0, -2) Distance from start = 2\n",
      "(2, -2) Distance from start = 4\n",
      "(2, -2) Distance from start = 4\n",
      "(4, 0) Distance from start = 4\n",
      "(-1, -1) Distance from start = 2\n",
      "(-2, 0) Distance from start = 2\n",
      "(2, -4) Distance from start = 6\n",
      "(0, 4) Distance from start = 4\n"
     ]
    }
   ],
   "source": [
    "def random_walk(n):\n",
    "    # Return coordinates after 'n' random steps.\n",
    "    x = 0\n",
    "    y = 0\n",
    "    for i in range(n):\n",
    "        step = random.choice(['N', 'S', 'E', 'W'])\n",
    "        if step == 'N':\n",
    "            y += 1\n",
    "        elif step == 'S':\n",
    "            y += -1\n",
    "        elif step == 'E':\n",
    "            x += 1\n",
    "        else:\n",
    "            x += -1\n",
    "    return (x,y)\n",
    "\n",
    "\n",
    "for i in range(25):\n",
    "    walk = random_walk(10)\n",
    "    print(walk, \"Distance from start =\",\n",
    "         abs(walk[0])+abs(walk[1]))"
   ]
  },
  {
   "cell_type": "markdown",
   "id": "097fac2e",
   "metadata": {},
   "source": [
    "For the second function we will have a more compact code. The final walk distance will be calculated as the shortest distance between the start and end points. "
   ]
  },
  {
   "cell_type": "code",
   "execution_count": 3,
   "id": "0d7cfa67",
   "metadata": {},
   "outputs": [
    {
     "name": "stdout",
     "output_type": "stream",
     "text": [
      "(2, 0) Distance from start = 2.0\n",
      "(0, 0) Distance from start = 0.0\n",
      "(-2, -4) Distance from start = 4.47213595499958\n",
      "(4, -4) Distance from start = 5.656854249492381\n",
      "(3, 1) Distance from start = 3.1622776601683795\n",
      "(0, 2) Distance from start = 2.0\n",
      "(0, -2) Distance from start = 2.0\n",
      "(2, 2) Distance from start = 2.8284271247461903\n",
      "(-2, 2) Distance from start = 2.8284271247461903\n",
      "(0, -2) Distance from start = 2.0\n",
      "(-1, 3) Distance from start = 3.1622776601683795\n",
      "(0, 2) Distance from start = 2.0\n",
      "(-1, 5) Distance from start = 5.0990195135927845\n",
      "(0, 2) Distance from start = 2.0\n",
      "(2, -2) Distance from start = 2.8284271247461903\n",
      "(-1, -1) Distance from start = 1.4142135623730951\n",
      "(2, 2) Distance from start = 2.8284271247461903\n",
      "(4, 0) Distance from start = 4.0\n",
      "(5, -1) Distance from start = 5.0990195135927845\n",
      "(-2, 4) Distance from start = 4.47213595499958\n",
      "(-1, 3) Distance from start = 3.1622776601683795\n",
      "(1, 3) Distance from start = 3.1622776601683795\n",
      "(4, -2) Distance from start = 4.47213595499958\n",
      "(0, -2) Distance from start = 2.0\n",
      "(0, 0) Distance from start = 0.0\n"
     ]
    }
   ],
   "source": [
    "def random_walk2(n,x,y):\n",
    "    # Return coordinates after 'n' random steps. Starting x and y coordinates also need to be specified\n",
    "    x, y = x, y \n",
    "    for i in range(n):\n",
    "        (dx,dy) = random.choice([(0,1),(0,-1),(1,0),(-1,0)])\n",
    "        # the above code allows us to remove the if/else loop\n",
    "        x += dx\n",
    "        y += dy\n",
    "    return (x,y)\n",
    "\n",
    "for i in range(25):\n",
    "    walk = random_walk2(10,0,0)\n",
    "    print(walk, \"Distance from start =\",\n",
    "         math.sqrt(pow(walk[0],2)+pow(walk[1],2)))"
   ]
  },
  {
   "cell_type": "code",
   "execution_count": null,
   "id": "08c21c16",
   "metadata": {},
   "outputs": [],
   "source": []
  },
  {
   "cell_type": "code",
   "execution_count": null,
   "id": "e5e1740b",
   "metadata": {},
   "outputs": [],
   "source": []
  }
 ],
 "metadata": {
  "kernelspec": {
   "display_name": "Python 3",
   "language": "python",
   "name": "python3"
  },
  "language_info": {
   "codemirror_mode": {
    "name": "ipython",
    "version": 3
   },
   "file_extension": ".py",
   "mimetype": "text/x-python",
   "name": "python",
   "nbconvert_exporter": "python",
   "pygments_lexer": "ipython3",
   "version": "3.8.8"
  }
 },
 "nbformat": 4,
 "nbformat_minor": 5
}
